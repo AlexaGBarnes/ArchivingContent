{
 "cells": [
  {
   "cell_type": "code",
   "execution_count": null,
   "id": "d2df5252",
   "metadata": {},
   "outputs": [],
   "source": [
    "import os\n",
    "import pandas as pd\n",
    "\n",
    "# Read the spreadsheet\n",
    "df = pd.read_excel(\"Input.xslx\")\n",
    "\n",
    "# Output directory for downloaded videos\n",
    "output_dir = \"Videos\"\n",
    "\n",
    "# Create the output directory if it doesn't already exist\n",
    "os.makedirs(output_dir, exist_ok=True)\n",
    "\n",
    "# Download each video using youtube-dl\n",
    "for i, row in df.iterrows():\n",
    "    url = row[\"Link\"]\n",
    "    label = row[\"Archive Citation\"]\n",
    "    output_path = os.path.join(output_dir, f\"{label}.mp4\")\n",
    "    os.system(f\"youtube-dl -f mp4 -o '{output_path}' {url}\")\n",
    "\n",
    "print(\"All downloads complete!\")"
   ]
  }
 ],
 "metadata": {
  "kernelspec": {
   "display_name": "Python 3 (ipykernel)",
   "language": "python",
   "name": "python3"
  },
  "language_info": {
   "codemirror_mode": {
    "name": "ipython",
    "version": 3
   },
   "file_extension": ".py",
   "mimetype": "text/x-python",
   "name": "python",
   "nbconvert_exporter": "python",
   "pygments_lexer": "ipython3",
   "version": "3.11.0"
  }
 },
 "nbformat": 4,
 "nbformat_minor": 5
}
