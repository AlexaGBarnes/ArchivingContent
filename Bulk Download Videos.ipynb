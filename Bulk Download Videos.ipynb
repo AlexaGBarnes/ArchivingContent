{
 "cells": [
  {
   "cell_type": "code",
   "execution_count": 1,
   "id": "d2df5252",
   "metadata": {},
   "outputs": [
    {
     "name": "stdout",
     "output_type": "stream",
     "text": [
      "[youtube] 3oNsKe66Shs: Downloading webpage\n",
      "[youtube] 3oNsKe66Shs: Downloading MPD manifest\n"
     ]
    },
    {
     "name": "stderr",
     "output_type": "stream",
     "text": [
      "WARNING: unable to extract uploader id; please report this issue on https://yt-dl.org/bug . Make sure you are using the latest version; see  https://yt-dl.org/update  on how to update. Be sure to call youtube-dl with the --verbose flag and include its complete output.\n"
     ]
    },
    {
     "name": "stdout",
     "output_type": "stream",
     "text": [
      "[download] Destination: Hovde/2008 Hovde - CNBC.mp4\n",
      "[download] 100% of 8.00MiB in 03:2417KiB/s ETA 00:007\n",
      "[youtube] Crb22U0P3UQ: Downloading webpage\n"
     ]
    },
    {
     "name": "stderr",
     "output_type": "stream",
     "text": [
      "WARNING: unable to extract uploader id; please report this issue on https://yt-dl.org/bug . Make sure you are using the latest version; see  https://yt-dl.org/update  on how to update. Be sure to call youtube-dl with the --verbose flag and include its complete output.\n"
     ]
    },
    {
     "name": "stdout",
     "output_type": "stream",
     "text": [
      "[download] Destination: Hovde/20120317 Hovde - Second Amendment Hovde for Senate YouTube.mp4\n",
      "[download] 100% of 4.27MiB in 01:2834KiB/s ETA 00:008nown ETA\n",
      "[youtube:tab] SKfI5vEcfdE: Downloading webpage\n"
     ]
    },
    {
     "name": "stderr",
     "output_type": "stream",
     "text": [
      "ERROR: Unable to download webpage: HTTP Error 404: Not Found (caused by <HTTPError 404: 'Not Found'>); please report this issue on https://yt-dl.org/bug . Make sure you are using the latest version; see  https://yt-dl.org/update  on how to update. Be sure to call youtube-dl with the --verbose flag and include its complete output.\n"
     ]
    },
    {
     "name": "stdout",
     "output_type": "stream",
     "text": [
      "[youtube] iKvTvUg99bY: Downloading webpage\n"
     ]
    },
    {
     "name": "stderr",
     "output_type": "stream",
     "text": [
      "WARNING: unable to extract uploader id; please report this issue on https://yt-dl.org/bug . Make sure you are using the latest version; see  https://yt-dl.org/update  on how to update. Be sure to call youtube-dl with the --verbose flag and include its complete output.\n"
     ]
    },
    {
     "name": "stdout",
     "output_type": "stream",
     "text": [
      "[download] Destination: Hovde/20120317 Hovde - Hovde Foundation Hovde for Senate YouTube.mp4\n",
      "[download] 100% of 8.46MiB in 02:0397KiB/s ETA 00:00known ETA\n",
      "[youtube] wAW9-7p0C_k: Downloading webpage\n",
      "[youtube] wAW9-7p0C_k: Downloading MPD manifest\n"
     ]
    },
    {
     "name": "stderr",
     "output_type": "stream",
     "text": [
      "WARNING: unable to extract uploader id; please report this issue on https://yt-dl.org/bug . Make sure you are using the latest version; see  https://yt-dl.org/update  on how to update. Be sure to call youtube-dl with the --verbose flag and include its complete output.\n"
     ]
    },
    {
     "name": "stdout",
     "output_type": "stream",
     "text": [
      "[download] Destination: Hovde/20120317 Hovde - Budget Hovde for Senate YouTube.mp4\n",
      "[download] 100% of 11.56MiB in 04:1990KiB/s ETA 00:006nown ETA\n",
      "[youtube] gbUYesYYS1E: Downloading webpage\n"
     ]
    },
    {
     "name": "stderr",
     "output_type": "stream",
     "text": [
      "WARNING: unable to extract uploader id; please report this issue on https://yt-dl.org/bug . Make sure you are using the latest version; see  https://yt-dl.org/update  on how to update. Be sure to call youtube-dl with the --verbose flag and include its complete output.\n"
     ]
    },
    {
     "name": "stdout",
     "output_type": "stream",
     "text": [
      "[download] Destination: Hovde/20120317 Hovde - Platform Hovde for Senate YouTube.mp4\n",
      "[download] 100% of 5.97MiB in 02:2465KiB/s ETA 00:00known ETA\n",
      "[youtube] RGW9yLTV8jI: Downloading webpage\n",
      "[youtube] RGW9yLTV8jI: Downloading MPD manifest\n"
     ]
    },
    {
     "name": "stderr",
     "output_type": "stream",
     "text": [
      "WARNING: unable to extract uploader id; please report this issue on https://yt-dl.org/bug . Make sure you are using the latest version; see  https://yt-dl.org/update  on how to update. Be sure to call youtube-dl with the --verbose flag and include its complete output.\n"
     ]
    },
    {
     "name": "stdout",
     "output_type": "stream",
     "text": [
      "[download] Destination: Hovde/20120317 Hovde - Corporate Hovde for Senate YouTube.mp4\n",
      "[download] 100% of 3.44MiB in 01:1569KiB/s ETA 00:000\n",
      "[youtube] fSP_R_rz02E: Downloading webpage\n",
      "[youtube] fSP_R_rz02E: Downloading MPD manifest\n"
     ]
    },
    {
     "name": "stderr",
     "output_type": "stream",
     "text": [
      "WARNING: unable to extract uploader id; please report this issue on https://yt-dl.org/bug . Make sure you are using the latest version; see  https://yt-dl.org/update  on how to update. Be sure to call youtube-dl with the --verbose flag and include its complete output.\n"
     ]
    },
    {
     "name": "stdout",
     "output_type": "stream",
     "text": [
      "[download] Destination: Hovde/20120317 Hovde - Waukesha County GOP Caucus YouTube.mp4\n",
      "[download] 100% of 4.47MiB in 01:4514KiB/s ETA 00:006\n",
      "[youtube] wPlkT_u6CBQ: Downloading webpage\n"
     ]
    },
    {
     "name": "stderr",
     "output_type": "stream",
     "text": [
      "WARNING: unable to extract uploader id; please report this issue on https://yt-dl.org/bug . Make sure you are using the latest version; see  https://yt-dl.org/update  on how to update. Be sure to call youtube-dl with the --verbose flag and include its complete output.\n"
     ]
    },
    {
     "name": "stdout",
     "output_type": "stream",
     "text": [
      "[download] Destination: Hovde/20120507 Hovde - Hovde for Senate YouTube.mp4\n",
      "[download] 100% of 6.61MiB in 02:2742KiB/s ETA 00:009nown ETA\n",
      "[youtube] uTfj0YXzyzM: Downloading webpage\n",
      "[youtube] uTfj0YXzyzM: Downloading MPD manifest\n"
     ]
    },
    {
     "name": "stderr",
     "output_type": "stream",
     "text": [
      "WARNING: unable to extract uploader id; please report this issue on https://yt-dl.org/bug . Make sure you are using the latest version; see  https://yt-dl.org/update  on how to update. Be sure to call youtube-dl with the --verbose flag and include its complete output.\n"
     ]
    },
    {
     "name": "stdout",
     "output_type": "stream",
     "text": [
      "[download] Destination: Hovde/20120621 Hovde - Charlie Sykes WTMJ.mp4\n",
      "[download] 100% of 16.14MiB in 06:0443KiB/s ETA 00:00known ETA\n",
      "[youtube] _00WlkcBXkU: Downloading webpage\n",
      "[youtube] _00WlkcBXkU: Downloading MPD manifest\n"
     ]
    },
    {
     "name": "stderr",
     "output_type": "stream",
     "text": [
      "WARNING: unable to extract uploader id; please report this issue on https://yt-dl.org/bug . Make sure you are using the latest version; see  https://yt-dl.org/update  on how to update. Be sure to call youtube-dl with the --verbose flag and include its complete output.\n"
     ]
    },
    {
     "name": "stdout",
     "output_type": "stream",
     "text": [
      "[download] Destination: Hovde/20120730 Hovde - Web WISN 12 News.mp4\n",
      "[download] 100% of 16.01MiB in 05:1693KiB/s ETA 00:00known ETA\n",
      "[youtube] aJKwsbuUmBg: Downloading webpage\n"
     ]
    },
    {
     "name": "stderr",
     "output_type": "stream",
     "text": [
      "WARNING: unable to extract uploader id; please report this issue on https://yt-dl.org/bug . Make sure you are using the latest version; see  https://yt-dl.org/update  on how to update. Be sure to call youtube-dl with the --verbose flag and include its complete output.\n"
     ]
    },
    {
     "name": "stdout",
     "output_type": "stream",
     "text": [
      "[download] Destination: Hovde/20230315 Hovde - Sunwest Bank YouTube.mp4\n",
      "[download] 100% of 40.70MiB in 09:3720KiB/s ETA 00:00known ETA\n",
      "All downloads complete!\n"
     ]
    }
   ],
   "source": [
    "import os\n",
    "import pandas as pd\n",
    "\n",
    "# Read the spreadsheet\n",
    "df = pd.read_excel(\"\")\n",
    "\n",
    "# Output directory for downloaded videos\n",
    "output_dir = \"\"\n",
    "\n",
    "# Create the output directory if it doesn't already exist\n",
    "os.makedirs(output_dir, exist_ok=True)\n",
    "\n",
    "# Download each video using youtube-dl\n",
    "for i, row in df.iterrows():\n",
    "    url = row[\"Link\"]\n",
    "    label = row[\"Archive Citation\"]\n",
    "    output_path = os.path.join(output_dir, f\"{label}.mp4\")\n",
    "    os.system(f\"youtube-dl -f mp4 -o '{output_path}' {url}\")\n",
    "\n",
    "print(\"All downloads complete!\")"
   ]
  },
  {
   "cell_type": "code",
   "execution_count": null,
   "id": "70841e70",
   "metadata": {},
   "outputs": [],
   "source": []
  }
 ],
 "metadata": {
  "kernelspec": {
   "display_name": "Python 3 (ipykernel)",
   "language": "python",
   "name": "python3"
  },
  "language_info": {
   "codemirror_mode": {
    "name": "ipython",
    "version": 3
   },
   "file_extension": ".py",
   "mimetype": "text/x-python",
   "name": "python",
   "nbconvert_exporter": "python",
   "pygments_lexer": "ipython3",
   "version": "3.11.0"
  }
 },
 "nbformat": 4,
 "nbformat_minor": 5
}
